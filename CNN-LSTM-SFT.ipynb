{
 "cells": [
  {
   "metadata": {},
   "cell_type": "markdown",
   "source": [
    "**SFT CNN-LSTM Model Code**\n",
    "\n",
    "* Items to add\n",
    "    * Add database links\n",
    "    * Add Eval Stage\n",
    "    * Add Individual Inferences\n",
    "* Items to check/review\n",
    "    * Ensure preprocessing is correct before importing images\n",
    "    * Check input size from images\n"
   ],
   "id": "6f1cf11ab2169cd2"
  },
  {
   "metadata": {},
   "cell_type": "code",
   "outputs": [],
   "execution_count": null,
   "source": [
    "import torch\n",
    "import matplotlib.pyplot as plt\n",
    "import numpy as np\n",
    "import pandas as pd\n",
    "import torch.nn as nn\n",
    "import torch.nn.functional as F\n",
    "import cv2\n",
    "import get_thermal_images as gt\n",
    "import time\n",
    "from datetime import datetime\n",
    "from torch.utils.data import Dataset, DataLoader\n",
    "import os\n",
    "import torch.optim as optim"
   ],
   "id": "34e5f210a9719e78"
  },
  {
   "metadata": {},
   "cell_type": "code",
   "outputs": [],
   "execution_count": null,
   "source": [
    "\"\"\"\n",
    "class CNN(nn.Module):\n",
    "    def __init__(self):\n",
    "        super(CNN, self).__init__()\n",
    "        self.conv=nn.Sequential(\n",
    "            nn.Conv2d(in_channels=3, out_channels=32, kernel_size=3, stride=1, padding=1),\n",
    "            nn.ReLU(),\n",
    "            nn.MaxPool2d(kernel_size=2, stride=3),\n",
    "            nn.Conv2d(in_channels=32, out_channels=45),\n",
    "            nn.MaxPool2d(kernel_size=2, stride=3),\n",
    "        )\n",
    "    def forward(self, x):\n",
    "        x=self.conv1(x)\n",
    "        x=self.relu(x)\n",
    "        x=self.pool1(x)\n",
    "        x=self.conv2(x)\n",
    "        x=self.relu(x)\n",
    "        x=self.pool2(x)\n",
    "        return x\n",
    "\"\"\""
   ],
   "id": "1a7f498c8fe22147"
  },
  {
   "metadata": {},
   "cell_type": "code",
   "outputs": [],
   "execution_count": null,
   "source": [
    "class CNN_LSTM(nn.Module):\n",
    "    def __init__(self, input_size, hidden_size, num_layers, output_size, dropout_rate, batch_first=True):\n",
    "        super(CNN_LSTM, self).__init__()\n",
    "        self.hidden_size=hidden_size\n",
    "        self.num_layers=num_layers\n",
    "        self.l1=nn.LSTM(input_size, hidden_size, num_layers, dropout=dropout_rate, batch_first=False)\n",
    "        self.l2=nn.Linear(hidden_size, output_size)\n",
    "        self.dropout=nn.Dropout(dropout_rate)\n",
    "        self.batch_first=batch_first\n",
    "        self.cnn=nn.Sequential(\n",
    "            nn.Conv2d(in_channels=3, out_channels=32, kernel_size=3, stride=1, padding=1),\n",
    "            nn.ReLU(),\n",
    "            nn.MaxPool2d(kernel_size=2, stride=3),\n",
    "            nn.Conv2d(in_channels=32, out_channels=45),\n",
    "            nn.MaxPool2d(kernel_size=2, stride=3),\n",
    "        )\n",
    "    def forward(self, x):\n",
    "\n",
    "        batch_size, seq_len, c, h, w = x.shape\n",
    "        x = x.view(batch_size * seq_len, c, h, w)\n",
    "        x=self.cnn(x)\n",
    "\n",
    "        if x.dim()==2:\n",
    "            x=x.unsqueeze(1)\n",
    "        batch_size=x.size(1)\n",
    "        h0 = torch.zeros(self.num_layers, batch_size, self.hidden_size).to(x.device)\n",
    "        c0 = torch.zeros(self.num_layers, batch_size, self.hidden_size).to(x.device)\n",
    "        out, _=self.l1(x, (h0, c0))\n",
    "        out = self.l2(out[:, -1, :])\n",
    "        out=torch.relu(out)\n",
    "        return out"
   ],
   "id": "e4f9baf1dea4b876"
  },
  {
   "metadata": {},
   "cell_type": "code",
   "outputs": [],
   "execution_count": null,
   "source": [
    "def get_thermal_data():\n",
    "    ret=False\n",
    "    try:\n",
    "        thermal_data=gt.read_thermal_data()\n",
    "        ret=True\n",
    "    except:\n",
    "        ret=False\n",
    "        thermal_data=None\n",
    "    return ret, thermal_data"
   ],
   "id": "bc2561b538334930"
  },
  {
   "metadata": {},
   "cell_type": "code",
   "outputs": [],
   "execution_count": null,
   "source": [
    "def save_images():\n",
    "    while True:\n",
    "        ret, frame = get_thermal_data()\n",
    "        if ret==True:\n",
    "            filename = f\"thermal_images/thermal_{datetime.now().strftime('%Y%m%d_%H%M%S')}.jpg\"\n",
    "            cv2.imwrite(filename, frame)\n",
    "            print(f\"Saved: {filename}\")\n",
    "\n",
    "        time.sleep(5)  # Capture every 5 seconds\n"
   ],
   "id": "ac258971074bfc23"
  },
  {
   "metadata": {},
   "cell_type": "code",
   "outputs": [],
   "execution_count": null,
   "source": [
    "def preprocess_img(path):\n",
    "    img=cv2.imread(path, cv2.IMREAD_GRAYSCALE)\n",
    "    img=img/255.0\n",
    "    return img"
   ],
   "id": "2b54c97fb16f357a"
  },
  {
   "metadata": {},
   "cell_type": "code",
   "outputs": [],
   "execution_count": null,
   "source": [
    "\"\"\"\n",
    "class ThermalImageDataset(Dataset):\n",
    "   def __init__(self, dataset_path, transform=None):\n",
    "       self.dataset_path = dataset_path\n",
    "       self.transform = transform\n",
    "       self.images = []\n",
    "\n",
    "       for filename in os.listdir(dataset_path):\n",
    "           if filename.endswith('.jpg') or filename.endswith('.png'):\n",
    "               img_path = os.path.join(dataset_path, filename)\n",
    "               img = cv2.imread(img_path, cv2.IMREAD_GRAYSCALE)\n",
    "               img = cv2.resize(img, IMG_SIZE)\n",
    "               img = img / 255.0\n",
    "               self.images.append(img)\n",
    "\n",
    "       self.images = np.array(self.images).astype(np.float32)\n",
    "\n",
    "   def __len__(self):\n",
    "       return len(self.images)\n",
    "\n",
    "   def __getitem__(self, idx):\n",
    "       image = self.images[idx]\n",
    "       return torch.tensor(image).unsqueeze(0)\n",
    "\"\"\""
   ],
   "id": "12a9d1a8ed911d08"
  },
  {
   "metadata": {},
   "cell_type": "code",
   "outputs": [],
   "execution_count": null,
   "source": [
    "class ThermalDataset(Dataset):\n",
    "    def __init__(self, image_folder, sequence_length=5):\n",
    "        self.image_paths = sorted(os.listdir(image_folder))\n",
    "        self.sequence_length = sequence_length\n",
    "        self.data = []\n",
    "\n",
    "        for i in range(len(self.image_paths) - sequence_length):\n",
    "            seq = [preprocess_img(os.path.join(image_folder, self.image_paths[j])) for j in range(i, i+sequence_length)]\n",
    "            self.data.append(seq)\n",
    "\n",
    "    def __len__(self):\n",
    "        return len(self.data)\n",
    "\n",
    "    def __getitem__(self, idx):\n",
    "        seq = np.array(self.data[idx])  # Convert to numpy array\n",
    "        X = seq[:-1]  # Input sequence\n",
    "        y = seq[-1]  # Target image\n",
    "        return torch.tensor(X, dtype=torch.float32).unsqueeze(1), torch.tensor(y, dtype=torch.float32).unsqueeze(0)"
   ],
   "id": "407c09d92814f950"
  },
  {
   "metadata": {},
   "cell_type": "code",
   "outputs": [],
   "execution_count": null,
   "source": [
    "# Load dataset\n",
    "dataset = ThermalDataset(\"thermal_images/\")\n",
    "dataloader = DataLoader(dataset, batch_size=2, shuffle=True)\n",
    "\n",
    "# Initialize model, loss function, optimizer\n",
    "model = CNN_LSTM()#Set model init parameters\n",
    "criterion = nn.MSELoss()\n",
    "optimizer = optim.Adam(model.parameters(), lr=0.001)"
   ],
   "id": "9b56a35b606e6497"
  },
  {
   "metadata": {
    "collapsed": true
   },
   "cell_type": "code",
   "outputs": [],
   "execution_count": null,
   "source": [
    "# Training loop\n",
    "\n",
    "#From GPT\n",
    "epochs = 10\n",
    "for epoch in range(epochs):\n",
    "    for X, y in dataloader:\n",
    "        optimizer.zero_grad()\n",
    "        y_pred = model(X)\n",
    "        loss = criterion(y_pred, y)\n",
    "        loss.backward()\n",
    "        optimizer.step()\n",
    "\n",
    "    print(f\"Epoch {epoch+1}/{epochs}, Loss: {loss.item():.5f}\")"
   ],
   "id": "initial_id"
  }
 ],
 "metadata": {
  "kernelspec": {
   "display_name": "Python 3",
   "language": "python",
   "name": "python3"
  },
  "language_info": {
   "codemirror_mode": {
    "name": "ipython",
    "version": 2
   },
   "file_extension": ".py",
   "mimetype": "text/x-python",
   "name": "python",
   "nbconvert_exporter": "python",
   "pygments_lexer": "ipython2",
   "version": "2.7.6"
  }
 },
 "nbformat": 4,
 "nbformat_minor": 5
}
